{
 "cells": [
  {
   "cell_type": "markdown",
   "metadata": {},
   "source": [
    "Skive Vision"
   ]
  },
  {
   "cell_type": "code",
   "execution_count": 146,
   "metadata": {},
   "outputs": [],
   "source": [
    "# Initializations"
   ]
  },
  {
   "cell_type": "code",
   "execution_count": 147,
   "metadata": {},
   "outputs": [
    {
     "ename": "KeyError",
     "evalue": "'ANTHROPIC_API_KEY'",
     "output_type": "error",
     "traceback": [
      "\u001b[1;31m---------------------------------------------------------------------------\u001b[0m",
      "\u001b[1;31mKeyError\u001b[0m                                  Traceback (most recent call last)",
      "Cell \u001b[1;32mIn[147], line 15\u001b[0m\n\u001b[0;32m     12\u001b[0m \u001b[38;5;28;01mfrom\u001b[39;00m \u001b[38;5;21;01mpydantic\u001b[39;00m \u001b[38;5;28;01mimport\u001b[39;00m Field\n\u001b[0;32m     13\u001b[0m \u001b[38;5;28;01mimport\u001b[39;00m \u001b[38;5;21;01mre\u001b[39;00m\n\u001b[1;32m---> 15\u001b[0m model \u001b[38;5;241m=\u001b[39m ChatAnthropic(model\u001b[38;5;241m=\u001b[39m\u001b[38;5;124m\"\u001b[39m\u001b[38;5;124mclaude-3-opus-20240229\u001b[39m\u001b[38;5;124m\"\u001b[39m, anthropic_api_key\u001b[38;5;241m=\u001b[39m\u001b[43mos\u001b[49m\u001b[38;5;241;43m.\u001b[39;49m\u001b[43menviron\u001b[49m\u001b[43m[\u001b[49m\u001b[38;5;124;43m\"\u001b[39;49m\u001b[38;5;124;43mANTHROPIC_API_KEY\u001b[39;49m\u001b[38;5;124;43m\"\u001b[39;49m\u001b[43m]\u001b[49m)\n",
      "File \u001b[1;32m<frozen os>:714\u001b[0m, in \u001b[0;36m__getitem__\u001b[1;34m(self, key)\u001b[0m\n",
      "\u001b[1;31mKeyError\u001b[0m: 'ANTHROPIC_API_KEY'"
     ]
    }
   ],
   "source": [
    "import os\n",
    "from pdf2image import convert_from_path\n",
    "import pytesseract\n",
    "from PIL import Image\n",
    "from langchain_anthropic import ChatAnthropic\n",
    "from langchain_core.prompts import ChatPromptTemplate\n",
    "from langchain.chains import LLMChain\n",
    "from langchain_core.tools import StructuredTool\n",
    "from langchain_core.pydantic_v1 import BaseModel\n",
    "import pandas as pd\n",
    "from typing import Type\n",
    "from pydantic import Field\n",
    "import re\n",
    "import dotenv\n",
    "\n",
    "dotenv.load_dotenv()\n",
    "\n",
    "model = ChatAnthropic(model=\"claude-3-opus-20240229\", anthropic_api_key=os.environ[\"ANTHROPIC_API_KEY\"])"
   ]
  },
  {
   "cell_type": "code",
   "execution_count": null,
   "metadata": {},
   "outputs": [],
   "source": [
    "# Utility functions : Convert PDF pages to images"
   ]
  },
  {
   "cell_type": "code",
   "execution_count": null,
   "metadata": {},
   "outputs": [],
   "source": [
    "def pdf_to_images(pdf_path):\n",
    "    return convert_from_path(pdf_path)\n",
    "\n",
    "def image_to_text(image: Image.Image):\n",
    "    return pytesseract.image_to_string(image)"
   ]
  },
  {
   "cell_type": "code",
   "execution_count": null,
   "metadata": {},
   "outputs": [],
   "source": [
    "# Image to Text Conversion Tool"
   ]
  },
  {
   "cell_type": "code",
   "execution_count": null,
   "metadata": {},
   "outputs": [],
   "source": [
    "class ImageToTextInputs(BaseModel):\n",
    "    image_path: str = Field(..., description=\"Path to the image file\")\n",
    "\n",
    "class ImageToTextTool(StructuredTool):\n",
    "    name = \"ImageToText\"\n",
    "    description = \"Convert an image to text using OCR. Input should be the path to the image file.\"\n",
    "    args_schema: Type[ImageToTextInputs] = ImageToTextInputs\n",
    "\n",
    "    def _run(self, image_path: str) -> str:\n",
    "        image = Image.open(image_path)\n",
    "        return image_to_text(image)\n",
    "\n",
    "image_to_text_tool = ImageToTextTool()"
   ]
  },
  {
   "cell_type": "code",
   "execution_count": null,
   "metadata": {},
   "outputs": [],
   "source": [
    "# Information Verification Tool"
   ]
  },
  {
   "cell_type": "code",
   "execution_count": null,
   "metadata": {},
   "outputs": [],
   "source": [
    "class VerifyInfoInputs(BaseModel):\n",
    "    text: str\n",
    "    required_info: list\n",
    "\n",
    "def verify_info(text: str, required_info: list):\n",
    "    return all(info.lower() in text.lower() for info in required_info)\n",
    "\n",
    "class VerifyInfoTool(StructuredTool):\n",
    "    name = \"VerifyInfo\"\n",
    "    description = \"Verify if the required information is present in the text.\"\n",
    "    args_schema: Type[VerifyInfoInputs] = VerifyInfoInputs\n",
    "\n",
    "    def _run(self, text: str, required_info: list) -> bool:\n",
    "        return verify_info(text, required_info)\n",
    "\n",
    "verify_info_tool = VerifyInfoTool()"
   ]
  },
  {
   "cell_type": "code",
   "execution_count": null,
   "metadata": {},
   "outputs": [],
   "source": [
    "# Extract Info Tool"
   ]
  },
  {
   "cell_type": "code",
   "execution_count": null,
   "metadata": {},
   "outputs": [],
   "source": [
    "class ExtractInfoInputs(BaseModel):\n",
    "    text: str\n",
    "    fields: list\n",
    "\n",
    "def extract_info(text: str, fields: list):\n",
    "    extracted_info = {}\n",
    "    for field in fields:\n",
    "        start = text.lower().find(field.lower())\n",
    "        if start != -1:\n",
    "            end = text.find('\\n', start)\n",
    "            if end == -1:\n",
    "                end = len(text)\n",
    "            value = text[start + len(field):end].strip(': ').strip()\n",
    "            extracted_info[field] = value\n",
    "        else:\n",
    "            extracted_info[field] = None\n",
    "    return extracted_info\n",
    "\n",
    "class ExtractInfoTool(StructuredTool):\n",
    "    name = \"ExtractInfo\"\n",
    "    description = \"Extract required information from the text.\"\n",
    "    args_schema: Type[ExtractInfoInputs] = ExtractInfoInputs\n",
    "\n",
    "    def _run(self, text: str, fields: list) -> dict:\n",
    "        return extract_info(text, fields)\n",
    "\n",
    "extract_info_tool = ExtractInfoTool()\n"
   ]
  },
  {
   "cell_type": "code",
   "execution_count": null,
   "metadata": {},
   "outputs": [],
   "source": [
    "# LLM Chains"
   ]
  },
  {
   "cell_type": "code",
   "execution_count": null,
   "metadata": {},
   "outputs": [],
   "source": [
    "pdf_processing_chain = LLMChain(\n",
    "    llm=model,\n",
    "    prompt=ChatPromptTemplate.from_template(\"Extract text from the image: {image}\")\n",
    ")\n",
    "\n",
    "verification_chain = LLMChain(\n",
    "    llm=model,\n",
    "    prompt=ChatPromptTemplate.from_template(\"Verify the extracted text. Required information: {required_info}\")\n",
    ")\n",
    "\n",
    "extraction_chain = LLMChain(\n",
    "    llm=model,\n",
    "    prompt=ChatPromptTemplate.from_template(\"Extract the following fields from the text: {fields}\")\n",
    ")"
   ]
  },
  {
   "cell_type": "code",
   "execution_count": null,
   "metadata": {},
   "outputs": [],
   "source": [
    "# Process PDF's "
   ]
  },
  {
   "cell_type": "code",
   "execution_count": null,
   "metadata": {},
   "outputs": [],
   "source": [
    "def process_pdf(pdf_path, required_info, fields, output_folder=\"output_images\"):\n",
    "    try:\n",
    "        os.makedirs(output_folder, exist_ok=True)\n",
    "        \n",
    "        images = pdf_to_images(pdf_path)\n",
    "        all_extracted_info = []\n",
    "        document_valid = False  # Flag to track overall document validity\n",
    "\n",
    "        for i, image in enumerate(images):\n",
    "            image_path = os.path.join(output_folder, f\"image_{i}.png\")\n",
    "            image.save(image_path)\n",
    "            \n",
    "            try:\n",
    "                extracted_text = image_to_text_tool.run({\"image_path\": image_path})\n",
    "                \n",
    "                # Verify if all required info is present\n",
    "                verification_result = verify_info_tool.run({\n",
    "                    \"text\": extracted_text, \n",
    "                    \"required_info\": required_info\n",
    "                })\n",
    "\n",
    "                extraction_result = extract_info_tool.run({\n",
    "                    \"text\": extracted_text, \n",
    "                    \"fields\": fields\n",
    "                })\n",
    "                \n",
    "                # Add verification result to extraction_result\n",
    "                extraction_result['Verification'] = 'Valid' if verification_result else 'Invalid'\n",
    "                \n",
    "                all_extracted_info.append(extraction_result)\n",
    "                \n",
    "                # Update overall document validity\n",
    "                if verification_result:\n",
    "                    document_valid = True\n",
    "\n",
    "            except Exception as e:\n",
    "                print(f\"Error processing image {i}: {str(e)}\")\n",
    "                print(f\"Error type: {type(e)}\")\n",
    "                print(f\"Error details: {e.args}\")\n",
    "\n",
    "        return all_extracted_info, document_valid\n",
    "    except Exception as e:\n",
    "        print(f\"Error processing PDF: {str(e)}\")\n",
    "        return [], False"
   ]
  },
  {
   "cell_type": "code",
   "execution_count": null,
   "metadata": {},
   "outputs": [],
   "source": [
    "# Test from here"
   ]
  },
  {
   "cell_type": "code",
   "execution_count": null,
   "metadata": {},
   "outputs": [
    {
     "name": "stdout",
     "output_type": "stream",
     "text": [
      "                                                 Name  \\\n",
      "0                    * (same as ID proof) MANOJ KUMAR   \n",
      "1                                         MANOJ KUMAR   \n",
      "2                                                       \n",
      "3                                         MANOJ KUMAR   \n",
      "4                                         MANOJ KUMAR   \n",
      "5     of the Trading Member: INDmoney Private Limited   \n",
      "6   of the document Brief description of the document   \n",
      "7   & address of the applicant mentioned on the KY...   \n",
      "8                      of the spouse may be accepted.   \n",
      "9                            of Applicant MANOJ KUMAR   \n",
      "10                                        MANOJ KUMAR   \n",
      "11                                                are   \n",
      "12                                        MANOJ KUMAR   \n",
      "13                           as per following details   \n",
      "14                                   INDmoney Pvt Ltd   \n",
      "15                                                      \n",
      "16                                 Clearing Member ID   \n",
      "17           and Password confidential and secure and   \n",
      "18                                        MANOJ KUMAR   \n",
      "19                                        MANOJ KUMAR   \n",
      "20                                        MANOJ KUMAR   \n",
      "21                                                      \n",
      "22  of the Guardian of Nominee (if nominee is a mi...   \n",
      "23  and address are required, if the account holde...   \n",
      "24                                        MANOJ KUMAR   \n",
      "25                                        MANOJ KUMAR   \n",
      "26                                        MANOJ KUMAR   \n",
      "27                                        MANOJ KUMAR   \n",
      "28                                        MANOJ KUMAR   \n",
      "29                                                      \n",
      "30                                        MANOJ KUMAR   \n",
      "31                               Mismatch Declaration   \n",
      "32                                    of the Customer   \n",
      "\n",
      "                                                 Date  \\\n",
      "0                                of Birth* 01-01-1988   \n",
      "1                                                   )   \n",
      "2                                                       \n",
      "3                        Mon Feb 12 01:51:08 IST 2024   \n",
      "4                                 of birth 01-01-1988   \n",
      "5                        Mon Feb 12 01:51:08 IST 2024   \n",
      "6                        Mon Feb 12 01:51:08 IST 2024   \n",
      "7                                  should be valid on   \n",
      "8                        Mon Feb 12 01:51:08 IST 2024   \n",
      "9                    of birth (0D-mu-yyyy) 01-01-1988   \n",
      "10                       Mon Feb 12 01:51:08 IST 2024   \n",
      "11                                                      \n",
      "12                       Mon Feb 12 01:51:08 IST 2024   \n",
      "13                     Mon Feb 12 01:51:08 IST 2024 9   \n",
      "14  Mon Feb 12 01:51:08 IST 2024 Date:Mon Feb 12 0...   \n",
      "15                                                      \n",
      "16                       Mon Feb 12 01:51:08 IST 2024   \n",
      "17                                       , the manner   \n",
      "18                       Mon Feb 12 01:51:08 IST 2024   \n",
      "19                                                      \n",
      "20  d in the app and website of INDmoney Pvt Ltd a...   \n",
      "21                                                  d   \n",
      "22                             of birth (mandatory if   \n",
      "23  of making this application. I/We agree and und...   \n",
      "24                  of receipt of funds/securities or   \n",
      "25                              d by INDmoney Pvt Ltd   \n",
      "26  collaterals to the extent of debit balances, w...   \n",
      "27                                                  .   \n",
      "28  of the transaction request. The User agrees th...   \n",
      "29  [2024-02-12101:47.08,279+05:30 | Download date...   \n",
      "30                       Mon Feb 12 01:51:08 IST 2024   \n",
      "31                       Mon Feb 12 01:51:08 IST 2024   \n",
      "32                       Mon Feb 12 01:51:08 IST 2024   \n",
      "\n",
      "                                              Address Verification  \n",
      "0                                                   *        Valid  \n",
      "1   of applicant, if different from above A / Over...        Valid  \n",
      "2                                                            Valid  \n",
      "3                                                None      Invalid  \n",
      "4                                                None      Invalid  \n",
      "5                                         or email to        Valid  \n",
      "6                                                None      Invalid  \n",
      "7   is in a foreign language, then translation int...        Valid  \n",
      "8                                    should be taken.        Valid  \n",
      "9                                                None      Invalid  \n",
      "10                                            DETAILS        Valid  \n",
      "11  in the Jurisdiction Details where Applicant is...        Valid  \n",
      "12                                               None      Invalid  \n",
      "13                                          of the BO        Valid  \n",
      "14                                               None      Invalid  \n",
      "15                                                           Valid  \n",
      "16                    and phone no. of the Introducer        Valid  \n",
      "17                                               None      Invalid  \n",
      "18                                          , if any.        Valid  \n",
      "19                                               None      Invalid  \n",
      "20                                               None      Invalid  \n",
      "21                are required, if the account holder        Valid  \n",
      "22                                                           Valid  \n",
      "23        are required, if the account holder affixes        Valid  \n",
      "24                                         ed to you.        Valid  \n",
      "25                                                           Valid  \n",
      "26                   , identity and other supporting/        Valid  \n",
      "27                                               None      Invalid  \n",
      "28  Details, Bank Details and Documents, Signature...        Valid  \n",
      "29          Bundel Singh, House No 128, Gandhi Nagar,        Valid  \n",
      "30                                               None      Invalid  \n",
      "31                                              Proof        Valid  \n",
      "32                                               None      Invalid  \n",
      "\n",
      "Document Validation Result:\n",
      "Certified Valid\n"
     ]
    }
   ],
   "source": [
    "pdf_path = r\"C:\\Users\\USER\\Documents\\GitHub\\skive.ai\\Docs\\BGQPK4512E_12022024032132 (1).pdf\"\n",
    "required_info = [\"Name\", \"Date\", \"Address\"]\n",
    "fields = [\"Name\", \"Date\", \"Address\"]\n",
    "output_folder = \"output_images\"\n",
    "extracted_info, document_valid = process_pdf(pdf_path, required_info, fields, output_folder)\n",
    "\n",
    "df = pd.DataFrame(extracted_info)\n",
    "print(df)\n",
    "\n",
    "print(\"\\nDocument Validation Result:\")\n",
    "print(\"Certified Valid\" if document_valid else \"Not Certified Valid\")"
   ]
  }
 ],
 "metadata": {
  "kernelspec": {
   "display_name": "Python 3",
   "language": "python",
   "name": "python3"
  },
  "language_info": {
   "codemirror_mode": {
    "name": "ipython",
    "version": 3
   },
   "file_extension": ".py",
   "mimetype": "text/x-python",
   "name": "python",
   "nbconvert_exporter": "python",
   "pygments_lexer": "ipython3",
   "version": "3.12.4"
  }
 },
 "nbformat": 4,
 "nbformat_minor": 2
}
